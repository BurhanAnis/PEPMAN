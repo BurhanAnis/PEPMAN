{
 "cells": [
  {
   "cell_type": "code",
   "execution_count": 22,
   "metadata": {},
   "outputs": [],
   "source": [
    "data=[]\n",
    "i=0\n",
    "with open('../../../../4.training_data_all_4_1/HeLaS3_negative_train.fa') as f:\n",
    "    for l in f:\n",
    "        if i%2==0:\n",
    "            data.append([l])\n",
    "        else:\n",
    "            data[-1]+=[l]\n",
    "        i+=1\n",
    "import random\n",
    "for i in range(10):\n",
    "    random.shuffle(data)\n",
    "    onefold=data[:25297]\n",
    "    tenfold=data[:252970]\n",
    "    with open('./train_data/HeLaS3_negative_train_1fold_'+str(i)+'.fa','w') as f:\n",
    "        for l in onefold:\n",
    "            f.writelines(l)\n",
    "    with open('./train_data/HeLaS3_negative_train_10fold_'+str(i)+'.fa','w') as f:\n",
    "        for l in tenfold:\n",
    "            f.writelines(l)"
   ]
  },
  {
   "cell_type": "code",
   "execution_count": 17,
   "metadata": {},
   "outputs": [],
   "source": [
    "data=[]\n",
    "i=0\n",
    "with open('../../../../4.training_data_all_4_1/HeLaS3_negative_test.fa') as f:\n",
    "    for l in f:\n",
    "        if i%2==0:\n",
    "            data.append([l])\n",
    "        else:\n",
    "            data[-1]+=[l]\n",
    "        i+=1"
   ]
  },
  {
   "cell_type": "code",
   "execution_count": 18,
   "metadata": {},
   "outputs": [],
   "source": [
    "import random\n",
    "random.shuffle(data)\n",
    "onefold=data[:7116]\n",
    "tenfold=data[:71160]"
   ]
  },
  {
   "cell_type": "code",
   "execution_count": 19,
   "metadata": {},
   "outputs": [],
   "source": [
    "with open('HeLaS3_negative_test_1fold.fa','w') as f:\n",
    "    for l in onefold:\n",
    "        f.writelines(l)"
   ]
  },
  {
   "cell_type": "code",
   "execution_count": 20,
   "metadata": {},
   "outputs": [],
   "source": [
    "with open('HeLaS3_negative_test_10fold.fa','w') as f:\n",
    "    for l in tenfold:\n",
    "        f.writelines(l)"
   ]
  }
 ],
 "metadata": {
  "kernelspec": {
   "display_name": "Python 3",
   "language": "python",
   "name": "python3"
  },
  "language_info": {
   "codemirror_mode": {
    "name": "ipython",
    "version": 3
   },
   "file_extension": ".py",
   "mimetype": "text/x-python",
   "name": "python",
   "nbconvert_exporter": "python",
   "pygments_lexer": "ipython3",
   "version": "3.7.4"
  }
 },
 "nbformat": 4,
 "nbformat_minor": 2
}
